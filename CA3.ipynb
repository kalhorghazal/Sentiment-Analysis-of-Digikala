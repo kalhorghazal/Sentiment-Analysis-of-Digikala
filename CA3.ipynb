{
 "cells": [
  {
   "cell_type": "markdown",
   "metadata": {},
   "source": [
    "# Naive Bayes Classifier\n",
    "## Ghazal Kalhor"
   ]
  },
  {
   "cell_type": "markdown",
   "metadata": {},
   "source": [
    "<div style=\"text-align: justify; font-weight: bold;\">\n",
    "<i>Abstract</i> — In this computer assignment, , we want to classify given comments into two classes (positive and negative); this is done by using the Naive Bayes Classification that we learnt in Artificial Intelligence.\n",
    "    \n",
    "<i>Keywords</i> — Artificial Intelligence, Naive Bayes Classification\n",
    " </div>"
   ]
  },
  {
   "cell_type": "markdown",
   "metadata": {},
   "source": [
    "### Introduction\n",
    "<br/>\n",
    "<div style=\"text-align: justify;\"> \n",
    "The aim of this computer assignment is to perform a sentiment analysis of comments for Dijikala datasets and classify them into recommended and not_recommended classes.\n",
    "</div>"
   ]
  },
  {
   "cell_type": "markdown",
   "metadata": {},
   "source": [
    "### Importing Libraries\n",
    "<br/>\n",
    "<div style=\"text-align: justify;\">\n",
    "In this part, some of the necessary libraries were imported in order to use their helpful functions. We used Hazm and Parsivar libraries to preprocess the given data.\n",
    "</div>"
   ]
  },
  {
   "cell_type": "code",
   "execution_count": 1,
   "metadata": {},
   "outputs": [],
   "source": [
    "from __future__ import unicode_literals\n",
    "import re\n",
    "import math\n",
    "import hazm\n",
    "import parsivar\n",
    "import numpy as np\n",
    "import pandas as pd\n",
    "import matplotlib.pyplot as plt\n",
    "from prettytable import PrettyTable "
   ]
  },
  {
   "cell_type": "markdown",
   "metadata": {},
   "source": [
    "### Defining Constants\n",
    "<br/>\n",
    "<div style=\"text-align: justify;\">\n",
    "In this part, constant values are defined in order to make the code more readable and more flexible to change.\n",
    "</div>"
   ]
  },
  {
   "cell_type": "code",
   "execution_count": 2,
   "metadata": {},
   "outputs": [],
   "source": [
    "MIN_LEN = 3\n",
    "\n",
    "SMOOTH = 4\n",
    "\n",
    "JUST_PREPROCESS = 'Preprocessing'\n",
    "JUST_SMOOTH = 'Smoothing'\n",
    "PREPROCESS_AND_SMOOTH = 'Preprocessing & Smoothing'\n",
    "NOTHING = 'Nothing'\n",
    "\n",
    "LAST = -1\n",
    "\n",
    "WRONGLY_COUNT = 5\n",
    "COMMENT = 0\n",
    "ACTUAL = 1\n",
    "DETECTED = 2\n",
    "\n",
    "DASH = '-'\n",
    "STARS = ' ***** '"
   ]
  },
  {
   "cell_type": "markdown",
   "metadata": {},
   "source": [
    "### Importing Data\n",
    "\n",
    "Contents of files *comment_train.csv* and *comment_test.csv* were read using *pd.read_csv* and then stored in *train* and *test* dataframes.\n"
   ]
  },
  {
   "cell_type": "code",
   "execution_count": 3,
   "metadata": {},
   "outputs": [],
   "source": [
    "train = pd.read_csv('comment_train.csv')\n",
    "test = pd.read_csv('comment_test.csv')"
   ]
  },
  {
   "cell_type": "code",
   "execution_count": 4,
   "metadata": {},
   "outputs": [
    {
     "data": {
      "text/html": [
       "<div>\n",
       "<style scoped>\n",
       "    .dataframe tbody tr th:only-of-type {\n",
       "        vertical-align: middle;\n",
       "    }\n",
       "\n",
       "    .dataframe tbody tr th {\n",
       "        vertical-align: top;\n",
       "    }\n",
       "\n",
       "    .dataframe thead th {\n",
       "        text-align: right;\n",
       "    }\n",
       "</style>\n",
       "<table border=\"1\" class=\"dataframe\">\n",
       "  <thead>\n",
       "    <tr style=\"text-align: right;\">\n",
       "      <th></th>\n",
       "      <th>title</th>\n",
       "      <th>comment</th>\n",
       "      <th>recommend</th>\n",
       "    </tr>\n",
       "  </thead>\n",
       "  <tbody>\n",
       "    <tr>\n",
       "      <th>0</th>\n",
       "      <td>زیبا اما کم دوام</td>\n",
       "      <td>با وجود سابقه خوبی که از برند ایرانی نهرین سرا...</td>\n",
       "      <td>not_recommended</td>\n",
       "    </tr>\n",
       "    <tr>\n",
       "      <th>1</th>\n",
       "      <td>بسیار عالی</td>\n",
       "      <td>بسیار عالی</td>\n",
       "      <td>recommended</td>\n",
       "    </tr>\n",
       "    <tr>\n",
       "      <th>2</th>\n",
       "      <td>سلام</td>\n",
       "      <td>من الان ۳ هفته هست استفاده میکنم\\r\\nبرای کسایی...</td>\n",
       "      <td>not_recommended</td>\n",
       "    </tr>\n",
       "    <tr>\n",
       "      <th>3</th>\n",
       "      <td>به درد نمیخورهههه</td>\n",
       "      <td>عمرش کمه تا یه هفته بیشتر نمیشه استفاده کرد یا...</td>\n",
       "      <td>not_recommended</td>\n",
       "    </tr>\n",
       "    <tr>\n",
       "      <th>4</th>\n",
       "      <td>کلمن آب</td>\n",
       "      <td>فکر کنین کلمن بخرین با ذوق. کلی پولشو بدین. به...</td>\n",
       "      <td>not_recommended</td>\n",
       "    </tr>\n",
       "  </tbody>\n",
       "</table>\n",
       "</div>"
      ],
      "text/plain": [
       "               title                                            comment  \\\n",
       "0   زیبا اما کم دوام  با وجود سابقه خوبی که از برند ایرانی نهرین سرا...   \n",
       "1         بسیار عالی                                         بسیار عالی   \n",
       "2               سلام  من الان ۳ هفته هست استفاده میکنم\\r\\nبرای کسایی...   \n",
       "3  به درد نمیخورهههه  عمرش کمه تا یه هفته بیشتر نمیشه استفاده کرد یا...   \n",
       "4            کلمن آب  فکر کنین کلمن بخرین با ذوق. کلی پولشو بدین. به...   \n",
       "\n",
       "         recommend  \n",
       "0  not_recommended  \n",
       "1      recommended  \n",
       "2  not_recommended  \n",
       "3  not_recommended  \n",
       "4  not_recommended  "
      ]
     },
     "execution_count": 4,
     "metadata": {},
     "output_type": "execute_result"
    }
   ],
   "source": [
    "train.head()"
   ]
  },
  {
   "cell_type": "code",
   "execution_count": 5,
   "metadata": {},
   "outputs": [
    {
     "data": {
      "text/html": [
       "<div>\n",
       "<style scoped>\n",
       "    .dataframe tbody tr th:only-of-type {\n",
       "        vertical-align: middle;\n",
       "    }\n",
       "\n",
       "    .dataframe tbody tr th {\n",
       "        vertical-align: top;\n",
       "    }\n",
       "\n",
       "    .dataframe thead th {\n",
       "        text-align: right;\n",
       "    }\n",
       "</style>\n",
       "<table border=\"1\" class=\"dataframe\">\n",
       "  <thead>\n",
       "    <tr style=\"text-align: right;\">\n",
       "      <th></th>\n",
       "      <th>title</th>\n",
       "      <th>comment</th>\n",
       "      <th>recommend</th>\n",
       "    </tr>\n",
       "  </thead>\n",
       "  <tbody>\n",
       "    <tr>\n",
       "      <th>0</th>\n",
       "      <td>وری گود</td>\n",
       "      <td>تازه خریدم یه مدت کار بکنه مشخص میشه کیفیت قطعاتش</td>\n",
       "      <td>recommended</td>\n",
       "    </tr>\n",
       "    <tr>\n",
       "      <th>1</th>\n",
       "      <td>زیاد مناسب نیست رنگ پس میده یه وقتایی موقع نوشتن</td>\n",
       "      <td>با این قیمت گزینه های بهتری هم میشه گرفت.\\r\\nر...</td>\n",
       "      <td>not_recommended</td>\n",
       "    </tr>\n",
       "    <tr>\n",
       "      <th>2</th>\n",
       "      <td>پنکه گوشی</td>\n",
       "      <td>خیلی عالیه، فقط کاش از اون سمتش میشد به پاوربا...</td>\n",
       "      <td>recommended</td>\n",
       "    </tr>\n",
       "    <tr>\n",
       "      <th>3</th>\n",
       "      <td>دستگاه خیلی ضعیف</td>\n",
       "      <td>من این فیس براس چند روز یپش به دستم رسید و الا...</td>\n",
       "      <td>not_recommended</td>\n",
       "    </tr>\n",
       "    <tr>\n",
       "      <th>4</th>\n",
       "      <td>عالی و بیست</td>\n",
       "      <td>بنده یه هارد اکسترنال دارم که کابل فابریکش سال...</td>\n",
       "      <td>recommended</td>\n",
       "    </tr>\n",
       "  </tbody>\n",
       "</table>\n",
       "</div>"
      ],
      "text/plain": [
       "                                              title  \\\n",
       "0                                           وری گود   \n",
       "1  زیاد مناسب نیست رنگ پس میده یه وقتایی موقع نوشتن   \n",
       "2                                         پنکه گوشی   \n",
       "3                                  دستگاه خیلی ضعیف   \n",
       "4                                       عالی و بیست   \n",
       "\n",
       "                                             comment        recommend  \n",
       "0  تازه خریدم یه مدت کار بکنه مشخص میشه کیفیت قطعاتش      recommended  \n",
       "1  با این قیمت گزینه های بهتری هم میشه گرفت.\\r\\nر...  not_recommended  \n",
       "2  خیلی عالیه، فقط کاش از اون سمتش میشد به پاوربا...      recommended  \n",
       "3  من این فیس براس چند روز یپش به دستم رسید و الا...  not_recommended  \n",
       "4  بنده یه هارد اکسترنال دارم که کابل فابریکش سال...      recommended  "
      ]
     },
     "execution_count": 5,
     "metadata": {},
     "output_type": "execute_result"
    }
   ],
   "source": [
    "test.head()"
   ]
  },
  {
   "cell_type": "markdown",
   "metadata": {},
   "source": [
    "### Plotting Train and Test Histograms\n",
    "In this part histogram of each column is drawn using Pandas hist method. We formatted these histograms using useful methods such as suptitle, xlabel, and ylabel from matplotlib library."
   ]
  },
  {
   "cell_type": "code",
   "execution_count": 6,
   "metadata": {},
   "outputs": [],
   "source": [
    "def draw_histogram(dataset, title, column, color):\n",
    "    plt.figure() \n",
    "    plt.suptitle('Histogram of ' + column + ' in ' + title, fontsize = 15)\n",
    "    plt.xlabel(column, fontsize = 12)\n",
    "    plt.ylabel('Frequency', fontsize = 12)\n",
    "    dataset[column].hist(color = color)"
   ]
  },
  {
   "cell_type": "code",
   "execution_count": 7,
   "metadata": {},
   "outputs": [
    {
     "data": {
      "image/png": "[encoded data removed]",
      "text/plain": [
       "<Figure size 432x288 with 1 Axes>"
      ]
     },
     "metadata": {
      "needs_background": "light"
     },
     "output_type": "display_data"
    }
   ],
   "source": [
    "draw_histogram(test, 'train', 'recommend', '#b5347e')"
   ]
  },
  {
   "cell_type": "code",
   "execution_count": 8,
   "metadata": {},
   "outputs": [
    {
     "data": {
      "image/png": "[encoded data removed]",
      "text/plain": [
       "<Figure size 432x288 with 1 Axes>"
      ]
     },
     "metadata": {
      "needs_background": "light"
     },
     "output_type": "display_data"
    }
   ],
   "source": [
    "draw_histogram(test, 'test', 'recommend', '#9a34b5')"
   ]
  },
  {
   "cell_type": "markdown",
   "metadata": {},
   "source": [
    "### Preprocessing Data"
   ]
  },
  {
   "cell_type": "markdown",
   "metadata": {},
   "source": [
    "### Normalizing\n",
    "<br/>\n",
    "<div style=\"text-align: justify;\"> \n",
    "In this part, we used Parsivar normalizer that converts persian digits to english digits, removes all white space and does other useful modifications. Also we have done some manual normalization tasks.\n",
    "</div>"
   ]
  },
  {
   "cell_type": "code",
   "execution_count": 9,
   "metadata": {},
   "outputs": [],
   "source": [
    "def normalize(self):\n",
    "    #self.text = self.hazm_normalizer.normalize(self.text)\n",
    "    self.text = self.parsivar_normalizer.normalize(self.text)\n",
    "    self.text = ''.join([i for i in self.text if not i.isdigit()])\n",
    "    self.text = re.sub(r'\\s*[A-Za-z]+\\b', '' , self.text)\n",
    "    self.text = self.text.replace(\"\\n\", \" \")\n",
    "    self.text = self.text.replace(\"فک\", \"فکر\")\n",
    "    self.text = self.text.replace(\"رو\", \"را\")\n",
    "    self.text = self.text.replace(\"خوا\", \"خواه\", 1)\n",
    "    self.text = self.text.replace(\"دگ\", \"دیگر\")\n",
    "    self.text = self.text.replace(\" برا\", \" برای\")\n",
    "    self.text = self.text.replace(\"همون\", \"همان\")\n",
    "    self.text = self.text.replace(\"خونه\", \"خانه\")\n",
    "    self.text = self.text.replace(\"  اما \", \" ولی\")\n",
    "    self.text = self.text.replace(\"گه\", \"گاه\")\n",
    "    self.text = self.text.replace(\"تون \", \"تان \")\n",
    "    self.text = self.text.replace(\"تون\", \"توان\")"
   ]
  },
  {
   "cell_type": "markdown",
   "metadata": {},
   "source": [
    "### Stemming\n",
    "<br/>\n",
    "<div style=\"text-align: justify;\"> \n",
    "In this part, we used Hazm Stemmer in order to remove or stem the last few characters of the words that are not important such as ها in کتاب‌ها.\n",
    "</div>"
   ]
  },
  {
   "cell_type": "code",
   "execution_count": 10,
   "metadata": {},
   "outputs": [],
   "source": [
    "def stem(self):\n",
    "    self.word_list = [self.stemmer.stem(word) for word in self.word_list]"
   ]
  },
  {
   "cell_type": "markdown",
   "metadata": {},
   "source": [
    "### Lemmatizing\n",
    "<br/>\n",
    "<div style=\"text-align: justify;\"> \n",
    "In this part, we used Hazm Lemmatizer in order to convert the word to its meaningful base form, which is called Lemma.\n",
    "</div>"
   ]
  },
  {
   "cell_type": "code",
   "execution_count": 11,
   "metadata": {},
   "outputs": [],
   "source": [
    "def lemmatize(self):\n",
    "    self.word_list = [self.lemmatizer.lemmatize(word) for word in self.word_list]"
   ]
  },
  {
   "cell_type": "markdown",
   "metadata": {},
   "source": [
    "### Tokenizing\n",
    "<br/>\n",
    "<div style=\"text-align: justify;\"> \n",
    "Tokenizing is defined as a process to split the text into smaller units, i.e., tokens, perhaps at the same time throwing away certain characters, such as punctuation. Tokens could be words, numbers, symbols, n-grams, or characters. N-grams are a combination of n words or characters together. Tokenizing does this task by locating word boundaries. \n",
    "    \n",
    "In this part, we user Parsivar Tokenizer in order to convert text to a list of words.\n",
    "</div>"
   ]
  },
  {
   "cell_type": "code",
   "execution_count": 12,
   "metadata": {},
   "outputs": [],
   "source": [
    "def word_tokenize(self):\n",
    "    self.word_list = self.tokenizer.tokenize_words(self.text)"
   ]
  },
  {
   "cell_type": "code",
   "execution_count": 13,
   "metadata": {},
   "outputs": [],
   "source": [
    "def just_tokenize(self, text):\n",
    "    return text.split()"
   ]
  },
  {
   "cell_type": "markdown",
   "metadata": {},
   "source": [
    "### Removing Stop Words\n",
    "<br/>\n",
    "<div style=\"text-align: justify;\"> \n",
    "stop words are words which are filtered out before or after processing of natural language data (text). Though \"stop words\" usually refers to the most common words in a language, there is no single universal list of stop words used by all natural language processing tools, and indeed not all tools even use such a list. \n",
    "\n",
    "In this part, we removed stop words from the given data to increase the accuray of our model.\n",
    "</div>"
   ]
  },
  {
   "cell_type": "code",
   "execution_count": 14,
   "metadata": {},
   "outputs": [],
   "source": [
    "def remove_stop_words(self):\n",
    "    words = []\n",
    "    for word in self.word_list:\n",
    "        if \"#\" in word: \n",
    "            lem = word.split(\"#\")\n",
    "            if len(lem) == 2:\n",
    "                if lem[0] in self.stop_words or lem[1] in self.stop_words:\n",
    "                    word = \"\"\n",
    "                else:\n",
    "                    word = lem[1]\n",
    "        if word[:-1] in self.stop_words:\n",
    "            word = \"\"\n",
    "            \n",
    "        if word.replace(\"می\", \"می\\u200c\", 1) in self.stop_words:\n",
    "            word = \"\"\n",
    "            \n",
    "        if len(word) >= MIN_LEN and word[-1] == \"ن\":\n",
    "            edited = word[:-1] + \"لا\"  # اصن -> اصلاً\n",
    "            if edited in self.stop_words:\n",
    "                word = \"\" \n",
    "            \n",
    "        if word in self.stop_words:\n",
    "            word = \"\"\n",
    "            \n",
    "        if word:\n",
    "            word = word.replace(u\"\\u200c\", \"\")\n",
    "            if len(word) >= MIN_LEN:\n",
    "                words.append(word)\n",
    "            \n",
    "    self.word_list = words"
   ]
  },
  {
   "cell_type": "code",
   "execution_count": 15,
   "metadata": {},
   "outputs": [],
   "source": [
    "def run(self, text):\n",
    "    self.text = text\n",
    "    self.normalize()\n",
    "    self.word_tokenize()\n",
    "    self.stem()\n",
    "    self.lemmatize()\n",
    "    self.remove_stop_words()\n",
    "    return self.word_list"
   ]
  },
  {
   "cell_type": "markdown",
   "metadata": {},
   "source": [
    "### Preprocessor Class\n",
    "<br/>\n",
    "<div style=\"text-align: justify;\"> \n",
    "In this part, we defined a class to do preprocessing tasks on a given text that we mentioned above.\n",
    "</div>"
   ]
  },
  {
   "cell_type": "code",
   "execution_count": 16,
   "metadata": {},
   "outputs": [],
   "source": [
    "class Preprocessor:\n",
    "    def __init__(self):\n",
    "        self.text = ''\n",
    "        self.word_list = []\n",
    "        self.hazm_normalizer = hazm.Normalizer()\n",
    "        self.parsivar_normalizer = parsivar.Normalizer()\n",
    "        self.tokenizer = parsivar.Tokenizer()\n",
    "        self.stemmer = hazm.Stemmer()\n",
    "        self.lemmatizer = hazm.Lemmatizer()\n",
    "        self.stop_words = set(hazm.stopwords_list(\"persian\"))\n",
    "        \n",
    "    normalize = normalize\n",
    "    stem = stem\n",
    "    lemmatize = lemmatize\n",
    "    remove_stop_words = remove_stop_words\n",
    "    run = run\n",
    "    word_tokenize = word_tokenize\n",
    "    just_tokenize = just_tokenize"
   ]
  },
  {
   "cell_type": "code",
   "execution_count": 17,
   "metadata": {},
   "outputs": [],
   "source": [
    "def preprocess(self):\n",
    "    self.train['comment'] = self.train['comment'].apply(self.preprocessor.run)\n",
    "    self.train['title'] = self.train['title'].apply(self.preprocessor.run)\n",
    "    self.test['comment'] = self.test['comment'].apply(self.preprocessor.run)\n",
    "    self.test['title'] = self.test['title'].apply(self.preprocessor.run)"
   ]
  },
  {
   "cell_type": "markdown",
   "metadata": {},
   "source": [
    "### Modeling the Problem\n",
    "In this part, we used bag of words model that is kind of a frequeny base model to do the classification task."
   ]
  },
  {
   "cell_type": "code",
   "execution_count": 18,
   "metadata": {},
   "outputs": [],
   "source": [
    "def extract_words(self, column):\n",
    "    data = self.train[[column, 'recommend']]\n",
    "    data = pd.DataFrame({col:np.repeat(data[col].values, data[column].str.len())\\\n",
    "              for col in data.columns.difference([column])}).assign\\\n",
    "                (**{column:np.concatenate(data[column].values)})[data.columns.tolist()]\n",
    "    \n",
    "    data.columns = ['word', 'recommend']\n",
    "    data_recommended = data[(data.recommend == 'recommended')][['word']]\n",
    "    data_not_recommended = data[(data.recommend == 'not_recommended')][['word']]\n",
    "    \n",
    "    self.recommended = self.recommended.append(data_recommended, ignore_index=True)\n",
    "    self.not_recommended = self.not_recommended.append(data_not_recommended, ignore_index=True)"
   ]
  },
  {
   "cell_type": "code",
   "execution_count": 19,
   "metadata": {},
   "outputs": [],
   "source": [
    "def extract_training_words(self):\n",
    "    self.extract_words('comment')\n",
    "    self.extract_words('title')"
   ]
  },
  {
   "cell_type": "markdown",
   "metadata": {},
   "source": [
    "### Computing Frequencies\n",
    "<br/>\n",
    "<div style=\"text-align: justify;\"> \n",
    "In this part, we computed the frequency of words in each class in the trainig data.\n",
    "</div>"
   ]
  },
  {
   "cell_type": "code",
   "execution_count": 20,
   "metadata": {},
   "outputs": [],
   "source": [
    "def compute_frequencies(self):\n",
    "    self.recommended['frequency'] = self.recommended['word']\\\n",
    "    .map(self.recommended['word'].value_counts())\n",
    "    \n",
    "    self.not_recommended['frequency'] = self.not_recommended['word']\\\n",
    "    .map(self.not_recommended['word'].value_counts())\n",
    "    \n",
    "    self.recommended.drop_duplicates(inplace = True)\n",
    "    self.not_recommended.drop_duplicates(inplace = True)\n",
    "    \n",
    "    self.not_recommended.reset_index(drop=True, inplace=True)\n",
    "    self.recommended.reset_index(drop=True, inplace=True)"
   ]
  },
  {
   "cell_type": "markdown",
   "metadata": {},
   "source": [
    "### Computing Probabilities\n",
    "<br/>\n",
    "<div style=\"text-align: justify;\"> \n",
    "In this part, we computed the likelihood of each word in the training data for the given class.\n",
    "</div>"
   ]
  },
  {
   "cell_type": "code",
   "execution_count": 21,
   "metadata": {},
   "outputs": [],
   "source": [
    "def compute_probabilities(self):\n",
    "    self.k = len(pd.concat([self.recommended,self.not_recommended]).drop_duplicates().reset_index(drop=True).index)\n",
    "    if self.apply_smoothing:\n",
    "        self.recommended['probability'] = (self.recommended['frequency'] + self.smooth)/\\\n",
    "        (self.recommended['frequency'].sum() + self.k * self.smooth)\n",
    "        self.not_recommended['probability'] = (self.not_recommended['frequency'] + self.smooth)/\\\n",
    "        (self.not_recommended['frequency'].sum() + self.k * self.smooth)\n",
    "    else:\n",
    "        self.recommended['probability'] = (self.recommended['frequency'])/\\\n",
    "        (self.recommended['frequency'].sum())\n",
    "        self.not_recommended['probability'] = (self.not_recommended['frequency'])/\\\n",
    "        (self.not_recommended['frequency'].sum())\n",
    "    \n",
    "    self.recommended = self.recommended.set_index('word')['probability'].to_dict()\n",
    "    self.not_recommended = self.not_recommended.set_index('word')['probability'].to_dict()"
   ]
  },
  {
   "cell_type": "markdown",
   "metadata": {},
   "source": [
    "### Additive Smoothing\n",
    "<br/>\n",
    "<div style=\"text-align: justify;\"> \n",
    "In this part, we computed the likelihood of each word in the test data for the given class.\n",
    "</div>"
   ]
  },
  {
   "cell_type": "code",
   "execution_count": 22,
   "metadata": {},
   "outputs": [],
   "source": [
    "def compute_recommended_prob(self, word_list):\n",
    "    if len(word_list) == 0:\n",
    "        return 1 \n",
    "    pos = 1\n",
    "    for word in word_list:\n",
    "        if word in self.recommended:\n",
    "            pos *= self.recommended[word]\n",
    "        elif self.apply_smoothing:\n",
    "            pos *= self.smooth/(self.k * self.smooth)\n",
    "        else:\n",
    "            return 0\n",
    "            \n",
    "    return pos"
   ]
  },
  {
   "cell_type": "code",
   "execution_count": 23,
   "metadata": {},
   "outputs": [],
   "source": [
    "def compute_not_recommended_prob(self, word_list):\n",
    "    if len(word_list) == 0:\n",
    "        return 1 \n",
    "    neg = 1\n",
    "    for word in word_list:\n",
    "        if word in self.not_recommended:\n",
    "            neg *= self.not_recommended[word]\n",
    "        elif self.apply_smoothing:\n",
    "            neg *= self.smooth/(self.k * self.smooth)\n",
    "        else:\n",
    "            return 0\n",
    "\n",
    "    return neg"
   ]
  },
  {
   "cell_type": "markdown",
   "metadata": {},
   "source": [
    "### Classifying\n",
    "<br/>\n",
    "<div style=\"text-align: justify;\"> \n",
    "In this part, we classified each comment with its title based on the probabilities that we computed in the previous parts.\n",
    "</div>"
   ]
  },
  {
   "cell_type": "code",
   "execution_count": 24,
   "metadata": {},
   "outputs": [],
   "source": [
    "def classify(self):\n",
    "    self.test['recommended_prob'] = self.p_recommended*self.test['comment'].\\\n",
    "        apply(self.compute_recommended_prob)*self.test['title'].apply(self.compute_recommended_prob)\n",
    " \n",
    "    self.test['not_recommended_prob'] = self.p_not_recommended*self.test['comment'].\\\n",
    "        apply(self.compute_not_recommended_prob)*self.test['title'].apply(self.compute_not_recommended_prob)\n",
    "    \n",
    "    self.test['guess'] = np.where((self.test['recommended_prob'] >= self.test['not_recommended_prob']),\\\n",
    "                                  'recommended', 'not_recommended')"
   ]
  },
  {
   "cell_type": "markdown",
   "metadata": {},
   "source": [
    "### Evaluating Model\n",
    "In this part, we evaluate the model based on the parameters such as accuracy, precision and recall.  \n",
    "\n",
    "<b>Accuray</b> is the number of the correct detections divided by the total number of detection.\n",
    "    \n",
    "<b>Precision</b> is the number of correct recommended detections divided by the total number of recommended detections including wrong ones.\n",
    "    \n",
    "<b>Recall</b> is the number of correct recommended detections divided by the total number of recommended in test data. \n",
    "\n",
    "<b>F1 Score</b> is the harmonic mean of the recall and precision."
   ]
  },
  {
   "cell_type": "code",
   "execution_count": 25,
   "metadata": {},
   "outputs": [],
   "source": [
    "def evaluate_model(self):\n",
    "    TN = 0\n",
    "    TP = 0\n",
    "    FN = 0\n",
    "    FP = 0\n",
    "    \n",
    "    for index, row in self.test.iterrows():\n",
    "        if row['recommend'] == 'recommended' and row['guess'] == 'recommended':\n",
    "            TP += 1\n",
    "        if row['recommend'] == 'not_recommended' and row['guess'] == 'not_recommended':\n",
    "            TN += 1\n",
    "        if row['recommend'] == 'not_recommended' and row['guess'] == 'recommended':\n",
    "            FP += 1\n",
    "        if row['recommend'] == 'recommended' and row['guess'] == 'not_recommended':\n",
    "            FN += 1\n",
    "        \n",
    "    accuracy = 100 * (TN + TP)/(TP + TN + FN + FP)\n",
    "    precision = 100 * TP/(TP + FP)\n",
    "    recall = 100 * TP/(TP + FN)\n",
    "    f1_score = (2 * precision * recall)/(precision + recall)\n",
    "    \n",
    "    self.accuracies.append(accuracy)\n",
    "    self.precisions.append(precision)\n",
    "    self.recalls.append(recall)\n",
    "    self.f1_scores.append(f1_score)"
   ]
  },
  {
   "cell_type": "markdown",
   "metadata": {},
   "source": [
    "### Plotting Parameters\n",
    "In this part, we wrote a function to plot the parameters in 4 cases that are defined."
   ]
  },
  {
   "cell_type": "code",
   "execution_count": 26,
   "metadata": {},
   "outputs": [],
   "source": [
    "def draw_parameters(self):\n",
    "    plt.figure(figsize=(20, 10))\n",
    "    plt.title(\"Classification Methods\")\n",
    "    plt.plot(self.labels, self.accuracies, '-o', label=\"Accuracy\", linewidth = 5, color = '#1691a7')\n",
    "    plt.plot(self.labels, self.precisions, '-o', label=\"Precision\", linewidth = 5, color = '#9a34b5')\n",
    "    plt.plot(self.labels, self.recalls, '-o', label=\"Recall\", linewidth = 5, color = '#e500a9')\n",
    "    plt.plot(self.labels, self.f1_scores, '-o', label=\"F1_score\", linewidth = 5, color = '#e5d700')\n",
    "    plt.legend(loc=\"upper left\")\n",
    "    plt.show()"
   ]
  },
  {
   "cell_type": "code",
   "execution_count": 27,
   "metadata": {},
   "outputs": [],
   "source": [
    "def store_wrongly_detected(self):\n",
    "    counter = 0\n",
    "    for index, row in self.test.iterrows():\n",
    "        if row['recommend'] != row['guess']:\n",
    "            counter += 1\n",
    "            self.wrongly_samples.append([row['comment'], row['recommend'], row['guess']])\n",
    "            if counter == WRONGLY_COUNT:\n",
    "                break"
   ]
  },
  {
   "cell_type": "code",
   "execution_count": 28,
   "metadata": {},
   "outputs": [],
   "source": [
    "def draw_result_histogram(self):\n",
    "    draw_histogram(self.test, 'test', 'guess', '#1cc32f')"
   ]
  },
  {
   "cell_type": "code",
   "execution_count": 29,
   "metadata": {},
   "outputs": [],
   "source": [
    "def print_evaluation_result(self):\n",
    "    print(STARS, self.labels[LAST], STARS)\n",
    "    print('Accuracy:', self.accuracies[LAST])\n",
    "    print('Precision:', self.precisions[LAST])\n",
    "    print('Recall:', self.recalls[LAST])\n",
    "    print('F1_score:', self.f1_scores[LAST])"
   ]
  },
  {
   "cell_type": "code",
   "execution_count": 30,
   "metadata": {},
   "outputs": [],
   "source": [
    "def start(self):\n",
    "    if self.apply_preprocessing:\n",
    "        self.preprocess()\n",
    "    else:\n",
    "        self.train['comment'] = self.train['comment'].apply(self.preprocessor.just_tokenize)\n",
    "        self.train['title'] = self.train['title'].apply(self.preprocessor.just_tokenize)\n",
    "        self.test['comment'] = self.test['comment'].apply(self.preprocessor.just_tokenize)\n",
    "        self.test['title'] = self.test['title'].apply(self.preprocessor.just_tokenize)\n",
    "        \n",
    "    self.extract_training_words()\n",
    "    self.compute_frequencies()\n",
    "    self.compute_probabilities()\n",
    "    self.classify()\n",
    "    self.evaluate_model()\n",
    "    self.print_evaluation_result()\n",
    "    \n",
    "    if self.apply_preprocessing and self.apply_smoothing:\n",
    "        self.store_wrongly_detected()"
   ]
  },
  {
   "cell_type": "code",
   "execution_count": 31,
   "metadata": {},
   "outputs": [],
   "source": [
    "def initialize(self, train, test, mode):\n",
    "    self.train = train.copy()\n",
    "    self.test = test.copy()\n",
    "    self.p_recommended = len(self.train[(self.train['recommend']=='recommended')].\\\n",
    "                             index)/len(self.train.index)\n",
    "    self.p_not_recommended = 1 - self.p_recommended\n",
    "    self.recommended = pd.DataFrame(columns=['word'])\n",
    "    self.not_recommended = pd.DataFrame(columns=['word'])\n",
    "\n",
    "    self.labels.append(mode)\n",
    "\n",
    "    if mode == JUST_PREPROCESS:\n",
    "        self.apply_preprocessing = True\n",
    "        self.apply_smoothing = False\n",
    "        \n",
    "    elif mode == JUST_SMOOTH:\n",
    "        self.apply_preprocessing = False\n",
    "        self.apply_smoothing = True\n",
    "        \n",
    "    elif mode == PREPROCESS_AND_SMOOTH:\n",
    "        self.apply_smoothing = True\n",
    "        self.apply_preprocessing = True\n",
    "        \n",
    "    else:\n",
    "        self.apply_smoothing = False\n",
    "        self.apply_preprocessing = False"
   ]
  },
  {
   "cell_type": "markdown",
   "metadata": {},
   "source": [
    "### Printing Wrong Detections\n",
    "In this part, we wrote a function to print 5 comments that our model detected wrongly."
   ]
  },
  {
   "cell_type": "code",
   "execution_count": 32,
   "metadata": {},
   "outputs": [],
   "source": [
    "def print_wrongly_samples(self):\n",
    "    for i in range(WRONGLY_COUNT):\n",
    "        print(i+1, DASH)\n",
    "        print('Comment:', self.wrongly_samples[i][COMMENT])\n",
    "        print('Actual:', self.wrongly_samples[i][ACTUAL], STARS, 'Detected:', self.wrongly_samples[i][DETECTED])   "
   ]
  },
  {
   "cell_type": "markdown",
   "metadata": {},
   "source": [
    "### Printing Parameters\n",
    "In this part, we wrote a function to print the evaluation parameters as a table."
   ]
  },
  {
   "cell_type": "code",
   "execution_count": 33,
   "metadata": {},
   "outputs": [],
   "source": [
    "def draw_parameter_table(self):\n",
    "    table = PrettyTable([\"Classification Method\", \"Accuracy\", \"Precision\", \"Recall\", \"F1_score\"]) \n",
    "    table.add_row([\"Preprocessing & Smoothing\", \"86.87\", \"85.54\", \"88.75\", \"87.12\"]) \n",
    "    table.add_row([\"Smoothing\", \"85.00\", \"80.57\", \"92.25\", \"86.01\"]) \n",
    "    table.add_row([\"Preprocessing\", \"88.12\", \"82.51\", \"96.75\", \"89.07\"]) \n",
    "    table.add_row([\"Nothing\", \"84.62\", \"76.89\", \"99.00\", \"86.56\"])  \n",
    "    print(table)"
   ]
  },
  {
   "cell_type": "markdown",
   "metadata": {},
   "source": [
    "### Classifier Class\n",
    "<br/>\n",
    "<div style=\"text-align: justify;\"> \n",
    "In this part, we defined a class to do classification tasks on a given text that we mentioned above.\n",
    "</div>"
   ]
  },
  {
   "cell_type": "code",
   "execution_count": 34,
   "metadata": {},
   "outputs": [],
   "source": [
    "class Classifier:\n",
    "    def __init__(self):\n",
    "        self.preprocessor = Preprocessor()\n",
    "        self.smooth = SMOOTH\n",
    "        self.k = 0\n",
    "        self.accuracies = []\n",
    "        self.f1_scores = []\n",
    "        self.recalls = []\n",
    "        self.precisions =[]\n",
    "        self.labels = [] \n",
    "        self.wrongly_samples = []\n",
    "        \n",
    "        \n",
    "    evaluate_model = evaluate_model\n",
    "    preprocess = preprocess\n",
    "    classify = classify\n",
    "    compute_recommended_prob = compute_recommended_prob\n",
    "    compute_not_recommended_prob = compute_not_recommended_prob\n",
    "    extract_words = extract_words\n",
    "    extract_training_words = extract_training_words\n",
    "    compute_frequencies = compute_frequencies\n",
    "    compute_probabilities = compute_probabilities\n",
    "    print_evaluation_result = print_evaluation_result\n",
    "    start = start\n",
    "    draw_result_histogram = draw_result_histogram\n",
    "    initialize = initialize\n",
    "    draw_parameters = draw_parameters\n",
    "    draw_parameter_table = draw_parameter_table\n",
    "    store_wrongly_detected = store_wrongly_detected\n",
    "    print_wrongly_samples = print_wrongly_samples"
   ]
  },
  {
   "cell_type": "code",
   "execution_count": 35,
   "metadata": {},
   "outputs": [
    {
     "name": "stdout",
     "output_type": "stream",
     "text": [
      " *****  Preprocessing & Smoothing  ***** \n",
      "Accuracy: 86.875\n",
      "Precision: 85.5421686746988\n",
      "Recall: 88.75\n",
      "F1_score: 87.11656441717791\n"
     ]
    }
   ],
   "source": [
    "classifier = Classifier()\n",
    "classifier.initialize(train, test, PREPROCESS_AND_SMOOTH)\n",
    "classifier.start()"
   ]
  },
  {
   "cell_type": "code",
   "execution_count": 36,
   "metadata": {},
   "outputs": [
    {
     "data": {
      "image/png": "[encoded data removed]",
      "text/plain": [
       "<Figure size 432x288 with 1 Axes>"
      ]
     },
     "metadata": {
      "needs_background": "light"
     },
     "output_type": "display_data"
    }
   ],
   "source": [
    "classifier.draw_result_histogram()"
   ]
  },
  {
   "cell_type": "code",
   "execution_count": 37,
   "metadata": {},
   "outputs": [
    {
     "name": "stdout",
     "output_type": "stream",
     "text": [
      " *****  Smoothing  ***** \n",
      "Accuracy: 85.0\n",
      "Precision: 80.56768558951966\n",
      "Recall: 92.25\n",
      "F1_score: 86.01398601398601\n"
     ]
    }
   ],
   "source": [
    "classifier.initialize(train, test, JUST_SMOOTH)\n",
    "classifier.start()"
   ]
  },
  {
   "cell_type": "code",
   "execution_count": 38,
   "metadata": {},
   "outputs": [
    {
     "data": {
      "image/png": "[encoded data removed]",
      "text/plain": [
       "<Figure size 432x288 with 1 Axes>"
      ]
     },
     "metadata": {
      "needs_background": "light"
     },
     "output_type": "display_data"
    }
   ],
   "source": [
    "classifier.draw_result_histogram()"
   ]
  },
  {
   "cell_type": "code",
   "execution_count": 39,
   "metadata": {
    "scrolled": true
   },
   "outputs": [
    {
     "name": "stdout",
     "output_type": "stream",
     "text": [
      " *****  Preprocessing  ***** \n",
      "Accuracy: 88.125\n",
      "Precision: 82.51599147121536\n",
      "Recall: 96.75\n",
      "F1_score: 89.06789413118527\n"
     ]
    }
   ],
   "source": [
    "classifier.initialize(train, test, JUST_PREPROCESS)\n",
    "classifier.start()"
   ]
  },
  {
   "cell_type": "code",
   "execution_count": 40,
   "metadata": {},
   "outputs": [
    {
     "data": {
      "image/png": "[encoded data removed]",
      "text/plain": [
       "<Figure size 432x288 with 1 Axes>"
      ]
     },
     "metadata": {
      "needs_background": "light"
     },
     "output_type": "display_data"
    }
   ],
   "source": [
    "classifier.draw_result_histogram()"
   ]
  },
  {
   "cell_type": "code",
   "execution_count": 41,
   "metadata": {},
   "outputs": [
    {
     "name": "stdout",
     "output_type": "stream",
     "text": [
      " *****  Nothing  ***** \n",
      "Accuracy: 84.625\n",
      "Precision: 76.89320388349515\n",
      "Recall: 99.0\n",
      "F1_score: 86.55737704918033\n"
     ]
    }
   ],
   "source": [
    "classifier.initialize(train, test, NOTHING)\n",
    "classifier.start()"
   ]
  },
  {
   "cell_type": "code",
   "execution_count": 42,
   "metadata": {},
   "outputs": [
    {
     "data": {
      "image/png": "[encoded data removed]",
      "text/plain": [
       "<Figure size 432x288 with 1 Axes>"
      ]
     },
     "metadata": {
      "needs_background": "light"
     },
     "output_type": "display_data"
    }
   ],
   "source": [
    "classifier.draw_result_histogram()"
   ]
  },
  {
   "cell_type": "code",
   "execution_count": 43,
   "metadata": {},
   "outputs": [
    {
     "data": {
      "image/png": "[encoded data removed]",
      "text/plain": [
       "<Figure size 1440x720 with 1 Axes>"
      ]
     },
     "metadata": {
      "needs_background": "light"
     },
     "output_type": "display_data"
    }
   ],
   "source": [
    "classifier.draw_parameters()"
   ]
  },
  {
   "cell_type": "markdown",
   "metadata": {},
   "source": [
    "### Question #1"
   ]
  },
  {
   "cell_type": "markdown",
   "metadata": {},
   "source": [
    "### Stemming and Lemmatizing\n",
    "<br/>\n",
    "<div style=\"text-align: justify;\"> \n",
    "Stemming is a process where a word is reduced to its root by removing inflection through dropping unnecessary characters, usually a suffix. This technique could remove important information but also help us to normalize our corpus. Stemmer is easy to build than a lemmatizer as the latter requires deep linguistics knowledge in constructing dictionaries to look up the lemma of the word.\n",
    "    \n",
    "Unlike stemming, lemmatization reduces the words to a word existing in the language. In this technique, part of speech of the word is required. This helps in transforming the word into a proper root form. However, for doing so, it requires extra computational linguistics power such as a part of speech tagger.\n",
    "</div>"
   ]
  },
  {
   "cell_type": "markdown",
   "metadata": {},
   "source": [
    "### Question #2\n",
    "#### Define these terms in the problem."
   ]
  },
  {
   "cell_type": "markdown",
   "metadata": {},
   "source": [
    "<img src=\"photos/prob.png\"  width=\"400\" height=\"400\">"
   ]
  },
  {
   "cell_type": "markdown",
   "metadata": {},
   "source": [
    "<br/>\n",
    "<div style=\"text-align: justify;\"> \n",
    "<b>Posterior</b> is the probability that the event c will occur given the knowledge that an event x has already occurred. In our context, posterior is the probability of the occurness of the class c given the word x. This can be computed by the given formula. We will compare this probability for both classes to choose one of the classes for the given comment.\n",
    "    \n",
    "<b>Prior</b> is the probability of the the class c. We know that the training data is symmetric. Therefore, we do not need to compute it and it will be 0.5. But if we didn't had this assumption, we could compute it by dividing the frequency of the class c by the sum of the frequency of all the classes in the training data.\n",
    "    \n",
    "<b>Likelihood</b> is the probability that the event x will occur given the knowledge that an event c has already occurred. In our context, likelihood is the probability of the occurness of the word x given the class c that can be one of the <i>recommended</i> and <i>not_recommended</i>. This probability can be computed by dividing the frequency of the word x in the class c by the sum of frequency of all the words in the class c.  \n",
    "    \n",
    "<b>Evidence</b> is the probability of the x used to update the prior. In our context, evidence is the probability of the occurness of the word x in the given text. It can be easily computed by dividing the frequency of the word x by the sum of the frequency of all the words in the text. But we do not need to compute this probability because we want to compare two classes and this parameter is same for both classes, so we can ignore it.\n",
    "</div>"
   ]
  },
  {
   "cell_type": "markdown",
   "metadata": {},
   "source": [
    "### Question #3"
   ]
  },
  {
   "cell_type": "markdown",
   "metadata": {},
   "source": [
    "#### Why Smoothing is needed in Naive Bayes?\n",
    "<br/>\n",
    "<div style=\"text-align: justify;\"> \n",
    "The frequency-based probability might introduce zeros when multiplying the probabilities, leading to a failure in preserving the information contributed by the non-zero probabilities. Therefore, a smoothing approach, for example, the Additive Smoothing, must be adopted to counter this problem. In the formula that is mentioned above, it is considered that the likelihood of words are idependent from each other. Therefore we multiplied them and if one of them were zero, the result would be zero and this is the reason of using the Additive Smoothing technique. \n",
    "</div>"
   ]
  },
  {
   "cell_type": "markdown",
   "metadata": {},
   "source": [
    "### Question #4\n",
    "#### Additive Smoothing "
   ]
  },
  {
   "cell_type": "markdown",
   "metadata": {},
   "source": [
    "<img src=\"photos/smooth.gif\"  width=\"400\" height=\"40\">"
   ]
  },
  {
   "cell_type": "markdown",
   "metadata": {},
   "source": [
    "<br/>\n",
    "<div style=\"text-align: justify;\"> \n",
    "Additive Smoothing is a technique to smooth categorical data. This technique is introduced to solve the problem of zero probability. A small-sample correction, or pseudo-count, will be incorporated in every probability estimate. Consequently, o probability will be zero. this is a way of regularizing Naive Bayes. Based on the formula, we have  a parameter called smoothing that is shown by lambda and K is the number of the unique words in the training data.\n",
    "</div>"
   ]
  },
  {
   "cell_type": "markdown",
   "metadata": {},
   "source": [
    "### Question #5"
   ]
  },
  {
   "cell_type": "markdown",
   "metadata": {},
   "source": [
    "<br/>\n",
    "<div style=\"text-align: justify;\"> \n",
    "Usually, precision and recall scores are given together and are not quoted individually. This is because it is easy to vary the sensitivity of a model to improve precision at the expense of recall, or vice versa.    \n",
    "    \n",
    "<b>Example 1:</b> Consider a model that wrongly detects all the comments as not_recommended except one comment that is really recommended. Therefore the precision of this model will be 1. But it is not a good model. We conclude that the precision is not enough to evaluate a model.  \n",
    "    \n",
    "<b>Example 2:</b> Consider a model that wrongly detects all the comments as recommended. Therefore the racall of this model will be 1. But it is not a good model. We conclude that the recall is not enough to evaluate a model.\n",
    "</div>"
   ]
  },
  {
   "cell_type": "markdown",
   "metadata": {},
   "source": [
    "### Question #6"
   ]
  },
  {
   "cell_type": "markdown",
   "metadata": {},
   "source": [
    "#### F1 Score\n",
    "<br/>\n",
    "<div style=\"text-align: justify;\"> \n",
    "The F1 score is the harmonic mean of precision and recall taking both metrics into account. It uses the harmonic mean instead of a simple average because it punishes extreme values. A classifier with a precision of 1.0 and a recall of 0.0 has a simple average of 0.5 but an F1 score of 0. \n",
    "</div>"
   ]
  },
  {
   "cell_type": "markdown",
   "metadata": {},
   "source": [
    "### Question #7"
   ]
  },
  {
   "cell_type": "code",
   "execution_count": 44,
   "metadata": {},
   "outputs": [
    {
     "name": "stdout",
     "output_type": "stream",
     "text": [
      "+---------------------------+----------+-----------+--------+----------+\n",
      "|   Classification Method   | Accuracy | Precision | Recall | F1_score |\n",
      "+---------------------------+----------+-----------+--------+----------+\n",
      "| Preprocessing & Smoothing |  86.87   |   85.54   | 88.75  |  87.12   |\n",
      "|         Smoothing         |  85.00   |   80.57   | 92.25  |  86.01   |\n",
      "|       Preprocessing       |  88.12   |   82.51   | 96.75  |  89.07   |\n",
      "|          Nothing          |  84.62   |   76.89   | 99.00  |  86.56   |\n",
      "+---------------------------+----------+-----------+--------+----------+\n"
     ]
    }
   ],
   "source": [
    "classifier.draw_parameter_table()"
   ]
  },
  {
   "cell_type": "markdown",
   "metadata": {},
   "source": [
    "### Question #8"
   ]
  },
  {
   "cell_type": "markdown",
   "metadata": {},
   "source": [
    "<div style=\"text-align: justify;\"> \n",
    "Based on the results, by using the preprocessing, accuray and precision of our model has been improved. It is undeniable that this technique normalizes our data in three ways: \n",
    "    \n",
    "1- Adds attributes to our data  \n",
    "2- Removes attributes from our data  \n",
    "3- Transforms attributes in our data  \n",
    "\n",
    "Also, by using the Additive Smoothing, precision and accuracy of our model has been improved.\n",
    "    \n",
    "Moreover, we can see that F1 score lies between precision and recall and it is rational because it is the harmonic mean of them. It has been increased by applying the preprocessing but decreased by applying the additive smoothing.\n",
    "\n",
    "Finally, we can see that when neither preprocessing nor smoothing has been applied to our model, we achieved a very high recall because when ever the probability of the two class are the samem we choose the recommended class and this situation occurs in this case. \n",
    "    \n",
    "To sum up, Preprocessing and Smoothing are good methods to improve our classification model.\n",
    "    \n",
    "</div>"
   ]
  },
  {
   "cell_type": "markdown",
   "metadata": {},
   "source": [
    "### Question #9"
   ]
  },
  {
   "cell_type": "code",
   "execution_count": 45,
   "metadata": {},
   "outputs": [
    {
     "name": "stdout",
     "output_type": "stream",
     "text": [
      "1 -\n",
      "Comment: ['خرید', 'کار', 'مشخص', 'میشه']\n",
      "Actual: recommended  *****  Detected: not_recommended\n",
      "2 -\n",
      "Comment: ['قیم', 'گزینه', 'میشه', 'گرف', 'مینویسه', 'مناسب', 'نیس', 'رنگ', 'میده', 'وقتا', 'موقع', 'نوشتن']\n",
      "Actual: not_recommended  *****  Detected: recommended\n",
      "3 -\n",
      "Comment: ['سلا', 'کابل', 'شارژ', 'توصیه', 'ارز', 'شارژ', 'وایرلس', 'مجهز']\n",
      "Actual: recommended  *****  Detected: not_recommended\n",
      "4 -\n",
      "Comment: ['کاور', 'مقاو', 'قشنگیه', 'زیادیه', 'ناموجوده', '...', 'موجود', 'بشه', 'سفار', 'مید', 'رنگ', 'طلا', 'فوقالعاده', 'زیباس', 'طراح', 'نحویه', 'نمیکنه', 'موجود', 'بشه', 'ممنون']\n",
      "Actual: not_recommended  *****  Detected: recommended\n",
      "5 -\n",
      "Comment: ['ادو', 'تویلتو', 'خرید', 'خلاف', 'نوشته', 'خنک', 'خیل', 'خنک', 'نیس', 'کارامل', 'خیل', 'غالبه', 'انتظار', 'غالب', 'زیباس', 'مانگار', 'خیل']\n",
      "Actual: recommended  *****  Detected: not_recommended\n"
     ]
    }
   ],
   "source": [
    "classifier.print_wrongly_samples()"
   ]
  },
  {
   "cell_type": "markdown",
   "metadata": {},
   "source": [
    "#### Comment #1\n",
    "In this comment we can not see positive or negative words to lead our model to a logical detection. So, because of that our model detected this comment wrongly.\n",
    "#### Comment #2\n",
    "In this comment we can see some positive nouns and verbs but there is only one negative verb. So, because of that our model detected this comment wrongly.\n",
    "#### Comment #3\n",
    "In this comment we can see that most of the words does not show user's opinion about the product.They only describe the product by its dmain terms. So, because of that our model detected this comment wrongly.\n",
    "#### Comment #4\n",
    "In this comment we can see many positive words and some negative words. Our model detected this comment as recommended because it considers the majority of the word. If this model could analyze the structure of the sentences in the comment, it would predict this comment correctly.\n",
    "#### Comment #5\n",
    "In this comment we can see many positive words but they are not in their basic form and this miss detection occurs because our model is not very clever at normalizing the comment."
   ]
  },
  {
   "cell_type": "markdown",
   "metadata": {},
   "source": [
    "### Conclusion\n",
    "<br/>\n",
    "<div style=\"text-align: justify;\"> \n",
    "In this computer assignment we learned that naive bayes is a good method to solve classification problems. Also we were introduced to some metrics to evaluate our classification results. \n",
    "</div>"
   ]
  },
  {
   "cell_type": "code",
   "execution_count": null,
   "metadata": {},
   "outputs": [],
   "source": []
  }
 ],
 "metadata": {
  "kernelspec": {
   "display_name": "Python 3",
   "language": "python",
   "name": "python3"
  },
  "language_info": {
   "codemirror_mode": {
    "name": "ipython",
    "version": 3
   },
   "file_extension": ".py",
   "mimetype": "text/x-python",
   "name": "python",
   "nbconvert_exporter": "python",
   "pygments_lexer": "ipython3",
   "version": "3.8.5"
  }
 },
 "nbformat": 4,
 "nbformat_minor": 2
}
